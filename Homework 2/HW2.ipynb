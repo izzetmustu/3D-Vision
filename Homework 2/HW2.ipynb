{
 "cells": [
  {
   "cell_type": "code",
   "execution_count": 1,
   "metadata": {},
   "outputs": [],
   "source": [
    "%matplotlib inline\n",
    "from stl import mesh\n",
    "from mpl_toolkits import mplot3d\n",
    "from matplotlib import pyplot as plt\n",
    "import numpy as np\n",
    "import cv2\n",
    "import os\n",
    "import pyvista\n",
    "import copy\n",
    "import scipy.io"
   ]
  },
  {
   "attachments": {},
   "cell_type": "markdown",
   "metadata": {},
   "source": [
    "#### Task 1"
   ]
  },
  {
   "cell_type": "code",
   "execution_count": 25,
   "metadata": {},
   "outputs": [],
   "source": [
    "def findBoard(imPath, board, criteria):\n",
    "    cols = board[0]\n",
    "    rows = board[1]\n",
    "    # prepare object points, like (0,0,0), (1,0,0), (2,0,0) ....,(cols-1,rows-1,0)\n",
    "    objp = np.zeros((rows*cols,3), np.float32)\n",
    "    objp[:,:2] = np.mgrid[0:cols,0:rows].T.reshape(-1,2)\n",
    "\n",
    "    # Arrays to store object points and image points from all the images.\n",
    "    objpoints = [] # 3d point in real world space\n",
    "    imgpoints = [] # 2d points in image plane.\n",
    "    foundImages = []\n",
    "    images = os.listdir(imPath)\n",
    "    print(\"ALL\", images)\n",
    "    for fname  in images:\n",
    "        img = cv2.imread(os.path.join(imPath, fname))\n",
    "        gray = cv2.cvtColor(img, cv2.COLOR_BGR2GRAY)\n",
    "        shape = gray.shape[::-1]\n",
    "        # Find the chess board corners\n",
    "        ret, corners = cv2.findChessboardCorners(gray, (cols,rows), None)\n",
    "        # If found, add object points, image points (after refining them)\n",
    "        if ret == True:\n",
    "            objpoints.append(objp)\n",
    "            corners2 = cv2.cornerSubPix(gray,corners, (21,21), (-1,-1), criteria)\n",
    "            imgpoints.append(corners2)\n",
    "            foundImages.append(fname)\n",
    "            print(fname)\n",
    "            # Draw and display the corners\n",
    "            cv2.drawChessboardCorners(img, (cols,rows), corners2, ret)\n",
    "            cv2.imwrite(os.path.join(\"chessboard\", fname), img)\n",
    "\n",
    "    \n",
    "    print(\"FOUND\", foundImages)\n",
    "    \n",
    "    return objpoints, imgpoints, shape, foundImages"
   ]
  },
  {
   "cell_type": "code",
   "execution_count": 26,
   "metadata": {},
   "outputs": [],
   "source": [
    "def ZhangCalibration(objpoints, imgpoints, shape):\n",
    "    ret, mtx, dist, rvecs, tvecs = cv2.calibrateCamera(objpoints, imgpoints, shape, None, None)\n",
    "    errors = []\n",
    "    mean_error = 0\n",
    "    for i in range(len(objpoints)):\n",
    "        imgpoints2, _ = cv2.projectPoints(objpoints[i], rvecs[i], tvecs[i], mtx, dist)\n",
    "        error = cv2.norm(imgpoints[i], imgpoints2, cv2.NORM_L2)/len(imgpoints2)\n",
    "        errors.append(error)\n",
    "        mean_error += error\n",
    "    print( \"total error: {}\".format(mean_error/len(objpoints)))\n",
    "    return errors, mtx, dist, rvecs, tvecs"
   ]
  },
  {
   "cell_type": "code",
   "execution_count": 27,
   "metadata": {},
   "outputs": [],
   "source": [
    "def undistort(image, mtx, dist):\n",
    "    h,  w = image.shape[:2]\n",
    "    newcameramtx, roi = cv2.getOptimalNewCameraMatrix(mtx, dist, (w,h), 1, (w,h))\n",
    "\n",
    "    # undistort\n",
    "    dst = cv2.undistort(image, mtx, dist, None, newcameramtx)\n",
    "    # crop the image\n",
    "    x, y, w, h = roi\n",
    "    dst = dst[y:y+h, x:x+w]\n",
    "    return dst"
   ]
  },
  {
   "cell_type": "code",
   "execution_count": 28,
   "metadata": {},
   "outputs": [],
   "source": [
    "def concat(im1, im2, scale=100):\n",
    "    \n",
    "    h1, w1 = im1.shape[:2]\n",
    "    h2, w2 = im2.shape[:2]\n",
    "\n",
    "    im3 = np.zeros((h1+h2, max(w1,w2),3), dtype=np.uint8)\n",
    "    im3[:,:] = (0,0,0)\n",
    "\n",
    "    im3[:h1, :w1,:3] = im1\n",
    "    im3[h1:h1+h2, :w2,:3] = im2\n",
    "\n",
    "    width = int(im3.shape[1] * scale / 100)\n",
    "    height = int(im3.shape[0] * scale / 100)\n",
    "    dim = (width, height)\n",
    "\n",
    "    im3 = cv2.resize(im3, dim, interpolation = cv2.INTER_AREA)\n",
    "\n",
    "    return im3"
   ]
  },
  {
   "cell_type": "code",
   "execution_count": 29,
   "metadata": {},
   "outputs": [],
   "source": [
    "path1 = \"part2_images1\"\n",
    "path2 = \"part2_images2\"\n",
    "path3 = \"part2_images3\"\n",
    "\n",
    "selectedPath = \"selected\"\n",
    "\n",
    "path1Files = os.listdir(path1)\n",
    "path2Files = os.listdir(path2)\n",
    "path3Files = os.listdir(path3)\n",
    "selectedPathFiles = os.listdir(selectedPath)\n",
    "\n",
    "# termination criteria\n",
    "criteria = (cv2.TERM_CRITERIA_EPS, 30, 0.001)\n",
    "board = (9,6)"
   ]
  },
  {
   "cell_type": "code",
   "execution_count": 30,
   "metadata": {},
   "outputs": [
    {
     "name": "stdout",
     "output_type": "stream",
     "text": [
      "selected\\IMG_4653.JPG\n",
      "selected\\IMG_4654.JPG\n",
      "selected\\IMG_4657.JPG\n",
      "selected\\IMG_4662.JPG\n",
      "selected\\IMG_4665.JPG\n",
      "selected\\IMG_4669.JPG\n"
     ]
    }
   ],
   "source": [
    "for fname in selectedPathFiles:\n",
    "    print(os.path.join(selectedPath, fname))"
   ]
  },
  {
   "cell_type": "code",
   "execution_count": 31,
   "metadata": {},
   "outputs": [
    {
     "name": "stdout",
     "output_type": "stream",
     "text": [
      "ALL ['IMG_4653.JPG', 'IMG_4654.JPG', 'IMG_4657.JPG', 'IMG_4662.JPG', 'IMG_4665.JPG', 'IMG_4669.JPG']\n",
      "IMG_4653.JPG\n",
      "IMG_4654.JPG\n",
      "IMG_4657.JPG\n",
      "IMG_4662.JPG\n",
      "IMG_4665.JPG\n",
      "IMG_4669.JPG\n",
      "FOUND ['IMG_4653.JPG', 'IMG_4654.JPG', 'IMG_4657.JPG', 'IMG_4662.JPG', 'IMG_4665.JPG', 'IMG_4669.JPG']\n",
      "total error: 0.11232097963046513\n"
     ]
    }
   ],
   "source": [
    "# selecteds\n",
    "objpoints, imgpoints, shape, foundImages = findBoard(selectedPath, board, criteria)\n",
    "errors, mtx, dist, rvecs, tvecs = ZhangCalibration(objpoints, imgpoints, shape)\n",
    "for fname in foundImages:\n",
    "    img = cv2.imread(os.path.join(selectedPath, fname))\n",
    "    undistorted = undistort(img, mtx, dist)\n",
    "    concated = concat(img, undistorted)\n",
    "    cv2.imwrite(os.path.join(\"concated\", fname), concated)\n",
    "    cv2.imwrite(os.path.join(\"undistorted\", fname), undistorted)"
   ]
  },
  {
   "cell_type": "code",
   "execution_count": 32,
   "metadata": {},
   "outputs": [
    {
     "name": "stdout",
     "output_type": "stream",
     "text": [
      "Using matplotlib backend: TkAgg\n"
     ]
    },
    {
     "data": {
      "text/plain": [
       "Text(0.5, 1.0, 'Reprojection Errors')"
      ]
     },
     "execution_count": 32,
     "metadata": {},
     "output_type": "execute_result"
    }
   ],
   "source": [
    "%matplotlib\n",
    "fig, ax = plt.subplots()\n",
    "ax.scatter(range(1, len(imgpoints)+1,1), errors)\n",
    "ax.set_title(\"Reprojection Errors\")"
   ]
  },
  {
   "attachments": {},
   "cell_type": "markdown",
   "metadata": {},
   "source": [
    "#### Task 2"
   ]
  },
  {
   "cell_type": "code",
   "execution_count": 33,
   "metadata": {},
   "outputs": [],
   "source": [
    "def projectCircle(img, imPoints, color=[0, 255, 0], radius = 1):\n",
    "    rows,cols, _ = img.shape\n",
    "    dst = img.copy()\n",
    "    for i in range(imPoints.shape[0]):\n",
    "        x = int(imPoints[i][0])\n",
    "        y = int(imPoints[i][1])\n",
    "        if(y < rows and y > 0 and x < cols and x > 0):\n",
    "            dst = cv2.circle(dst, (x,y), radius=radius,  color=color)\n",
    "            # dst[x, y] = np.array(color)\n",
    "            # print(x,y, dst[x, y])\n",
    "\n",
    "    return dst\n",
    "\n",
    "def putModelonBoard(mesh, x = 0, y = 0, scale = 1):\n",
    "    newMesh = copy.copy(mesh)\n",
    "    xmin, xmax, ymin, ymax, zmin, zmax = mesh.bounds\n",
    "    maxAxis = max(list(map(lambda x: abs(x), mesh.bounds)))\n",
    "    for i in range(mesh.points.shape[0]):\n",
    "        newX = scale*(mesh.points[i][0] - xmin) + x\n",
    "        newY = scale*(mesh.points[i][1] - ymin) + y\n",
    "        newZ = scale*(mesh.points[i][2] - zmin)\n",
    "        newMesh.points[i] = [newX, newY, newZ]\n",
    "    return newMesh"
   ]
  },
  {
   "cell_type": "code",
   "execution_count": 34,
   "metadata": {},
   "outputs": [
    {
     "name": "stdout",
     "output_type": "stream",
     "text": [
      "PolyData (0x10c41ffea60)\n",
      "  N Cells:    24459\n",
      "  N Points:   97836\n",
      "  N Strips:   0\n",
      "  X Bounds:   -5.843e+00, 5.843e+00\n",
      "  Y Bounds:   -5.660e-02, 2.068e+01\n",
      "  Z Bounds:   -1.853e+00, 1.917e+00\n",
      "  N Arrays:   5\n"
     ]
    },
    {
     "data": {
      "application/vnd.jupyter.widget-view+json": {
       "model_id": "017ea4a3cd0c47c79a1b0578d3749d73",
       "version_major": 2,
       "version_minor": 0
      },
      "text/plain": [
       "Widget(value=\"<iframe src='http://localhost:51167/index.html?ui=P_0x10c41fc4a90_0&reconnect=auto' style='width…"
      ]
     },
     "metadata": {},
     "output_type": "display_data"
    }
   ],
   "source": [
    "mesh = pyvista.read(\"mesh.obj\")\n",
    "print(mesh)\n",
    "mesh.plot()"
   ]
  },
  {
   "cell_type": "code",
   "execution_count": 35,
   "metadata": {},
   "outputs": [
    {
     "name": "stdout",
     "output_type": "stream",
     "text": [
      "PolyData (0x10c46c7f9a0)\n",
      "  N Cells:    24459\n",
      "  N Points:   97836\n",
      "  N Strips:   0\n",
      "  X Bounds:   0.000e+00, 2.337e+00\n",
      "  Y Bounds:   0.000e+00, 7.540e-01\n",
      "  Z Bounds:   0.000e+00, 4.148e+00\n",
      "  N Arrays:   5\n"
     ]
    },
    {
     "data": {
      "application/vnd.jupyter.widget-view+json": {
       "model_id": "ad8ffdc6955449e4b4a10228e996c837",
       "version_major": 2,
       "version_minor": 0
      },
      "text/plain": [
       "Widget(value=\"<iframe src='http://localhost:51167/index.html?ui=P_0x10c427cffa0_1&reconnect=auto' style='width…"
      ]
     },
     "metadata": {},
     "output_type": "display_data"
    }
   ],
   "source": [
    "scaledMesh = mesh.rotate_x(-90)\n",
    "scaledMesh = putModelonBoard(scaledMesh, scale=0.2)\n",
    "print(scaledMesh)\n",
    "scaledMesh.plot()"
   ]
  },
  {
   "cell_type": "code",
   "execution_count": 36,
   "metadata": {},
   "outputs": [],
   "source": [
    "for i, fname in enumerate(foundImages):\n",
    "    img = cv2.imread(os.path.join(selectedPath, fname))\n",
    "    img = undistort(img, mtx, dist)\n",
    "    imPoints, _ = cv2.projectPoints(scaledMesh.points, rvecs[i], tvecs[i], mtx, dist)\n",
    "    imPoints = np.squeeze(imPoints)\n",
    "    xx = projectCircle(img, imPoints)\n",
    "    cv2.imwrite(os.path.join(\"projected\", fname), xx)"
   ]
  },
  {
   "cell_type": "code",
   "execution_count": 37,
   "metadata": {},
   "outputs": [],
   "source": [
    "def concat_vh(list_2d):\n",
    "    # return final image\n",
    "    return cv2.vconcat([cv2.hconcat(list_h) \n",
    "                        for list_h in list_2d])"
   ]
  },
  {
   "cell_type": "code",
   "execution_count": 38,
   "metadata": {},
   "outputs": [
    {
     "data": {
      "text/plain": [
       "True"
      ]
     },
     "execution_count": 38,
     "metadata": {},
     "output_type": "execute_result"
    }
   ],
   "source": [
    "chessboards = []\n",
    "# image resizing\n",
    "for i, fname in enumerate(foundImages):\n",
    "    img = cv2.imread(os.path.join(\"chessboard\", fname))\n",
    "    chessboards.append(img)\n",
    "\n",
    "imgs = concat_vh([[chessboards[0], chessboards[1], chessboards[2]],\n",
    "                      [chessboards[3], chessboards[4], chessboards[5]]])\n",
    "# show the output image\n",
    "cv2.imwrite('chessboards.jpg', imgs)"
   ]
  },
  {
   "cell_type": "code",
   "execution_count": 39,
   "metadata": {},
   "outputs": [
    {
     "data": {
      "text/plain": [
       "True"
      ]
     },
     "execution_count": 39,
     "metadata": {},
     "output_type": "execute_result"
    }
   ],
   "source": [
    "undistorteds = []\n",
    "# image resizing\n",
    "for i, fname in enumerate(foundImages):\n",
    "    img = cv2.imread(os.path.join(\"concated\", fname))\n",
    "    undistorteds.append(img)\n",
    "\n",
    "imgs = concat_vh([[undistorteds[0], undistorteds[1], undistorteds[2]],\n",
    "                      [undistorteds[3], undistorteds[4], undistorteds[5]]])\n",
    "# show the output image\n",
    "cv2.imwrite('undistorteds.jpg', imgs)"
   ]
  },
  {
   "cell_type": "code",
   "execution_count": 40,
   "metadata": {},
   "outputs": [
    {
     "data": {
      "text/plain": [
       "True"
      ]
     },
     "execution_count": 40,
     "metadata": {},
     "output_type": "execute_result"
    }
   ],
   "source": [
    "projecteds = []\n",
    "# image resizing\n",
    "for i, fname in enumerate(foundImages):\n",
    "    img = cv2.imread(os.path.join(\"projected\", fname))\n",
    "    projecteds.append(img)\n",
    "\n",
    "imgs = concat_vh([[projecteds[0], projecteds[1], projecteds[2]],\n",
    "                      [projecteds[3], projecteds[4], projecteds[5]]])\n",
    "# show the output image\n",
    "cv2.imwrite('projecteds.jpg', imgs)"
   ]
  },
  {
   "attachments": {},
   "cell_type": "markdown",
   "metadata": {},
   "source": [
    "#### Task 3"
   ]
  },
  {
   "cell_type": "code",
   "execution_count": 41,
   "metadata": {},
   "outputs": [],
   "source": [
    "def skew(x):\n",
    "    return np.array([[0, -x[2], x[1]],\n",
    "                     [x[2], 0, -x[0]],\n",
    "                     [-x[1], x[0], 0]])"
   ]
  },
  {
   "cell_type": "code",
   "execution_count": 42,
   "metadata": {},
   "outputs": [],
   "source": [
    "def normalize2Dpts(A: np.ndarray) -> np.ndarray:\n",
    "    \"\"\"\n",
    "    Finds similarity for normalization of 2D homography data points with zero mean and sqrt(2) distance to origin.\n",
    "        \n",
    "        Parameters:\n",
    "                A   (numpy.ndarray): Input data points.\n",
    "        Returns:\n",
    "                Transformed points and similarity transform matrix.\n",
    "    \"\"\"\n",
    "    # Translation\n",
    "    mean = np.mean(A, axis=0)\n",
    "    shifted = A - mean\n",
    "    T1 = np.array([[1,      0,  -mean[0]],\n",
    "                   [0,      1,  -mean[1]],\n",
    "                   [0,      0,         1]], dtype=np.float32)\n",
    "    for i in range(A.shape[0]):\n",
    "        shifted[i] = T1@A[i]\n",
    "\n",
    "    # Scale\n",
    "    dSum = np.float32(0)\n",
    "    for i in range(shifted.shape[0]):\n",
    "        dSum += np.sqrt(shifted[i][0]**2 + shifted[i][1]**2)\n",
    "    scale = np.sqrt(2)*shifted.shape[0]/dSum\n",
    "    T2 = np.array([[scale, 0,        0],\n",
    "                  [0,        scale,  0],\n",
    "                  [0,        0,      1]], dtype=np.float32)\n",
    "    normalized = np.zeros_like(A, dtype=np.float32)\n",
    "    for i in range(shifted.shape[0]):\n",
    "        normalized[i] = T2@shifted[i]\n",
    "\n",
    "    T = T2@T1\n",
    "\n",
    "    return normalized, T"
   ]
  },
  {
   "cell_type": "code",
   "execution_count": 43,
   "metadata": {},
   "outputs": [],
   "source": [
    "def EightPointAlgorithm(x, x_hat):\n",
    "    assert x.shape == x_hat.shape, \"shapes do not match\"\n",
    "    N = x.shape[0]\n",
    "    assert N >= 8, \"minimum 8 correspondences are required\"\n",
    "\n",
    "    # Normalize points with 0 mean and sqrt2 variance\n",
    "    x_norm, xNormalizer = normalize2Dpts(x)\n",
    "    x_hat_norm, x_hatNormalizer = normalize2Dpts(x_hat)\n",
    "\n",
    "    # Convert into linear system and solve with SVD\n",
    "    E_s = np.zeros(shape=(9))\n",
    "    A = np.zeros(shape=(N,9))\n",
    "\n",
    "    for i in range(N):\n",
    "        A[i] = np.kron(x_norm[i], x_hat_norm[i])\n",
    "    \n",
    "    u, sigma, vh = np.linalg.svd(A)\n",
    "    \n",
    "    E_s = (vh.T)[:,-1]\n",
    "    E_hat = E_s.reshape(3,3)\n",
    "    # E_hat = np.array([[E_s[0], E_s[1], E_s[2]],\n",
    "    #                   [E_s[3], E_s[4], E_s[5]],\n",
    "    #                   [E_s[6], E_s[7], E_s[8]]])\n",
    "\n",
    "    # Project estimated matrix onto essential space\n",
    "    u, sigma, vh = np.linalg.svd(E_hat)\n",
    "    sigma = np.diag(sigma)\n",
    "\n",
    "    newSigma = copy.copy(sigma)\n",
    "    newSigma[0,0] = (sigma[0,0] + sigma[1,1])/2\n",
    "    newSigma[1,1] = (sigma[0,0] + sigma[1,1])/2\n",
    "    newSigma[2,2] = 0\n",
    "\n",
    "    E_tilda = u@newSigma@vh\n",
    "\n",
    "    # Denormalize\n",
    "    E_tilda = (x_hatNormalizer.T)@E_tilda@xNormalizer\n",
    "\n",
    "    return E_tilda\n"
   ]
  },
  {
   "cell_type": "code",
   "execution_count": 44,
   "metadata": {},
   "outputs": [],
   "source": [
    "def decomposeEssential(E, K1, K2, x, x_hat):\n",
    "    # Decompose T and R\n",
    "    u, sigma, vh = np.linalg.svd(E)\n",
    "    u = -u if np.linalg.det(u) < 0 else u\n",
    "    v = vh.T\n",
    "    v = -v if np.linalg.det(v) < 0 else v\n",
    "    vh = v.T\n",
    "\n",
    "    W = np.array([[0,-1,0], [1,0,0], [0,0,1]])\n",
    "    R2 = u@W@vh\n",
    "    T2 = u[:,2]\n",
    "    \n",
    "    M = skew((R2.T)@T2)\n",
    "    X1 = M@np.linalg.inv(K1)@x[0]\n",
    "    X2 = M@(R2.T)@np.linalg.inv(K2)@x_hat[0]\n",
    "    if(X1[2]*X2[2] < 0):\n",
    "        R2 = u@(W.T)@vh\n",
    "        M = skew((R2.T)@T2)\n",
    "        X1 = M@np.linalg.inv(K1)@x[0]\n",
    "    \n",
    "    if(X1[2] < 0):\n",
    "        T2 = -T2\n",
    "    \n",
    "    P1 = K1 @ np.concatenate((np.eye(3), np.array([[0, 0, 0]]).T), axis=1)\n",
    "    P2 = K2 @ np.concatenate((R2, T2.reshape((3, 1))), axis=1)\n",
    "\n",
    "    return P1, P2"
   ]
  },
  {
   "cell_type": "code",
   "execution_count": 45,
   "metadata": {},
   "outputs": [],
   "source": [
    "# This function are coded by utilizing \"3D Vision Stereo Epipolar Geometry.pdf\"\n",
    "def triangulate(M1, M2, x, x_hat):\n",
    "    N = x.shape[0]\n",
    "    X = np.zeros(shape=(N, 3))\n",
    "    \n",
    "    for i in range(N):\n",
    "        A = np.zeros(shape=(4,4))\n",
    "\n",
    "        A[0] = x[i,0]*M1[2] - M1[0]\n",
    "        A[1] = x[i,1]*M1[2] - M1[1]\n",
    "        \n",
    "        A[2] = x_hat[i,0]*M2[2] - M2[0]\n",
    "        A[3] = x_hat[i,1]*M2[2] - M2[1]\n",
    "\n",
    "        u, sigma, vh = np.linalg.svd(A)\n",
    "        X_estimate = np.transpose(vh)[:,-1]\n",
    "        X_estimate = X_estimate/X_estimate[-1]      \n",
    "        X[i] = X_estimate[:3]\n",
    "\n",
    "    return X"
   ]
  },
  {
   "cell_type": "code",
   "execution_count": 46,
   "metadata": {},
   "outputs": [
    {
     "data": {
      "text/plain": [
       "True"
      ]
     },
     "execution_count": 46,
     "metadata": {},
     "output_type": "execute_result"
    }
   ],
   "source": [
    "im1 = cv2.imread(\"1.JPG\")\n",
    "im2 = cv2.imread(\"2.JPG\")\n",
    "\n",
    "camMat = scipy.io.loadmat(\"cube_data.mat\")\n",
    "\n",
    "K = camMat[\"Calib\"]\n",
    "x = camMat[\"x1\"].T\n",
    "x_hat = camMat[\"x2\"].T\n",
    "# undistort\n",
    "xk = x @ np.linalg.inv(K).T             # In camera coordinate\n",
    "x_hatk = x_hat @ np.linalg.inv(K).T     # In camera coordinate\n",
    "\n",
    "im1Circled = copy.copy(im1)\n",
    "im2Circled = copy.copy(im2)\n",
    "for i in range(x.shape[0]):\n",
    "    im1Circled = cv2.circle(im1Circled, (int(x[i,0]), int(x[i,1])), 3, [0, 255, 0], thickness=-1)\n",
    "    im2Circled = cv2.circle(im2Circled, (int(x_hat[i,0]), int(x_hat[i,1])), 3, [0, 255, 0], thickness=-1)\n",
    "cv2.imwrite(\"1Circled.JPG\", im1Circled)\n",
    "cv2.imwrite(\"2Circled.JPG\", im2Circled)"
   ]
  },
  {
   "cell_type": "code",
   "execution_count": 49,
   "metadata": {},
   "outputs": [
    {
     "name": "stdout",
     "output_type": "stream",
     "text": [
      "Using matplotlib backend: TkAgg\n"
     ]
    },
    {
     "data": {
      "text/plain": [
       "<mpl_toolkits.mplot3d.art3d.Path3DCollection at 0x10c42306910>"
      ]
     },
     "execution_count": 49,
     "metadata": {},
     "output_type": "execute_result"
    }
   ],
   "source": [
    "# Calculate essential matrix by using camera coordinates\n",
    "E = EightPointAlgorithm(xk, x_hatk)\n",
    "# Decompose essential matrix to R and T by using pixel coordinates, and return camera matrix\n",
    "P1, P2 = decomposeEssential(E, K, K, x, x_hat)\n",
    "# Triangulate back to 3D points\n",
    "X = triangulate(P1, P2, x_hat, x)\n",
    "\n",
    "# Plot the result\n",
    "%matplotlib \n",
    "fig = plt.figure()\n",
    "ax = plt.axes(projection='3d')\n",
    "ax.scatter(X[:,0], X[:,1], X[:,2], facecolors='none', edgecolors='blue')"
   ]
  },
  {
   "cell_type": "code",
   "execution_count": 50,
   "metadata": {},
   "outputs": [
    {
     "name": "stdout",
     "output_type": "stream",
     "text": [
      "Using matplotlib backend: TkAgg\n"
     ]
    },
    {
     "data": {
      "text/plain": [
       "<matplotlib.collections.PathCollection at 0x10c4ac33dc0>"
      ]
     },
     "execution_count": 50,
     "metadata": {},
     "output_type": "execute_result"
    }
   ],
   "source": [
    "%matplotlib \n",
    "fig = plt.figure()\n",
    "ax = plt.axes()\n",
    "ax.scatter(xk[:,0], xk[:,1], facecolors='none', edgecolors='blue')"
   ]
  }
 ],
 "metadata": {
  "kernelspec": {
   "display_name": "face",
   "language": "python",
   "name": "python3"
  },
  "language_info": {
   "codemirror_mode": {
    "name": "ipython",
    "version": 3
   },
   "file_extension": ".py",
   "mimetype": "text/x-python",
   "name": "python",
   "nbconvert_exporter": "python",
   "pygments_lexer": "ipython3",
   "version": "3.9.13"
  },
  "orig_nbformat": 4,
  "vscode": {
   "interpreter": {
    "hash": "dcd4ff8d2335249cb9e0f980656edcf68c38cfb5d66aae3294d15a5832db4941"
   }
  }
 },
 "nbformat": 4,
 "nbformat_minor": 2
}
